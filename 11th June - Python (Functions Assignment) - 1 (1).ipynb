{
 "cells": [
  {
   "cell_type": "markdown",
   "id": "4592c9b2",
   "metadata": {},
   "source": [
    "1. What is a lambda function in Python, and how does it differ from a regular function?\n",
    "Ans:Lambda functions return the result of evaluating an expression. There is no need to use a return statement explicitly. And about the Regular functions return a value explicitly using a return statement. If no return statement is used, the function returns None."
   ]
  },
  {
   "cell_type": "markdown",
   "id": "d59269cc",
   "metadata": {},
   "source": [
    "2. Can a lambda function in Python have multiple arguments? If yes, how can you define and use them?\n",
    "Ans: Yes, a lambda function in Python can have multiple arguments. Lambda functions, also known as anonymous functions, can take any number of arguments, just like regular functions.\n"
   ]
  },
  {
   "cell_type": "code",
   "execution_count": 3,
   "id": "94c1975c",
   "metadata": {},
   "outputs": [
    {
     "name": "stdout",
     "output_type": "stream",
     "text": [
      " The is output is 8\n"
     ]
    }
   ],
   "source": [
    "# Define the lambda function\n",
    "add = lambda x, y: x + y\n",
    "\n",
    "# Use the lambda function\n",
    "result = add(3, 5)\n",
    "print(F\" The is output is {result}\")  # Output: 8\n"
   ]
  },
  {
   "cell_type": "markdown",
   "id": "a95909bc",
   "metadata": {},
   "source": [
    "3. How are lambda functions typically used in Python? Provide an example use case.\n",
    "Ans:Lambda functions in Python are typically used for short, simple operations that are not complex enough to warrant a full function definition. They are especially useful in scenarios where functions are required as arguments to higher-order functions, such as map(), filter(), sorted(), and reduce().\n",
    "\n",
    "Common Use Cases of Lambda Functions\n",
    "1.In-line small functions for readability and conciseness: Lambda functions allow for defining small functions directly at the point of use, making the code more concise.\n",
    "2.Arguments to higher-order functions: Many built-in functions and methods in Python accept functions as arguments to customize their behavior.\n",
    "3.Sort operations: Custom sorting logic can be defined using lambda functions.\n",
    "4.Data transformation: Used with functions like map() and filter() to transform or filter data."
   ]
  },
  {
   "cell_type": "code",
   "execution_count": 4,
   "id": "2f887427",
   "metadata": {},
   "outputs": [
    {
     "name": "stdout",
     "output_type": "stream",
     "text": [
      "['Harshal', 'Jay', 'Shlok']\n"
     ]
    }
   ],
   "source": [
    "# created the list\n",
    "students = [\n",
    "    {\"name\": \"Harshal\", \"score\": 85},\n",
    "    {\"name\": \"Jay\", \"score\": 72},\n",
    "    {\"name\": \"Shlok\", \"score\": 90},\n",
    "    {\"name\": \"Ritik\", \"score\": 65}\n",
    "]\n",
    "\n",
    "# Step 1: Filter students who scored 70 or more\n",
    "passed_students = list(filter(lambda student: student['score'] >= 70, students))\n",
    "\n",
    "# Step 2: Extract the names of the passed students\n",
    "passed_names = list(map(lambda student: student['name'], passed_students))\n",
    "\n",
    "print(passed_names)"
   ]
  },
  {
   "cell_type": "markdown",
   "id": "25274c48",
   "metadata": {},
   "source": [
    "4. What are the advantages and limitations of lambda functions compared to regular functions in Python?\n",
    "Ans:Although lambda expressions offer concise ways to write functions, they come with challenges since they can make code less readable for complex logic\n",
    "\n",
    "1.Conciseness: Lambda functions allow you to write small functions in a more compact form, which can make your code more readable when the function logic is simple.\n",
    "\n",
    "2.Inline Usage: They are often used in places where a function is needed temporarily, especially as arguments to higher-order functions like map(), filter(), sorted(), and reduce().\n",
    "\n",
    "3.No Need for Naming: Since they are anonymous, there's no need to come up with a name for a function that will only be used once.\n",
    "\n",
    "*Limitations of Lambda Functions*\n",
    "\n",
    "1.Single Expression Only: Lambda functions are limited to a single expression. They cannot contain statements or multiple expressions.\n",
    "\n",
    "2.Lack of Readability for Complex Logic: For anything more than very simple functions, lambda functions can become difficult to read and understand. Regular functions with proper naming and multiple lines are generally more readable.\n",
    "\n",
    "3.No Annotations: Lambda functions do not support function annotations, which can be used to add metadata about the types of parameters and return values in regular functions.\n",
    "\n",
    "4.Limited Debugging: Debugging lambda functions can be more challenging compared to regular functions because they are anonymous and typically defined inline. This can make it harder to set breakpoints or trace issues."
   ]
  },
  {
   "cell_type": "markdown",
   "id": "d2c413ca",
   "metadata": {},
   "source": [
    "5. Are lambda functions in Python able to access variables defined outside of their own scope? Explain with an example.\n",
    "Ans: lambda functions in Python can access variables defined outside of their own scope. This is due to the concept of closures, where a function can capture and use variables from its enclosing scope."
   ]
  },
  {
   "cell_type": "code",
   "execution_count": 5,
   "id": "21dbc2fa",
   "metadata": {},
   "outputs": [
    {
     "name": "stdout",
     "output_type": "stream",
     "text": [
      "21\n"
     ]
    }
   ],
   "source": [
    "#defined the function\n",
    "def make_multiplier(factor):\n",
    "    return lambda x: x * factor\n",
    "\n",
    "# Create a multiplier function that triples its input\n",
    "triple = make_multiplier(3)\n",
    "\n",
    "# Use the multiplier function\n",
    "result = triple(7)\n",
    "print(result)"
   ]
  },
  {
   "cell_type": "markdown",
   "id": "0ef16353",
   "metadata": {},
   "source": [
    "6. Write a lambda function to calculate the square of a given number"
   ]
  },
  {
   "cell_type": "code",
   "execution_count": 7,
   "id": "68867dec",
   "metadata": {},
   "outputs": [
    {
     "name": "stdout",
     "output_type": "stream",
     "text": [
      "25\n"
     ]
    }
   ],
   "source": [
    "#ANS.6\n",
    "square = lambda x: x ** 2\n",
    "# Example usage of the lambda function\n",
    "result = square(5)\n",
    "print(result)"
   ]
  },
  {
   "cell_type": "markdown",
   "id": "4daf2265",
   "metadata": {},
   "source": [
    "7. Create a lambda function to find the maximum value in a list of integers."
   ]
  },
  {
   "cell_type": "code",
   "execution_count": 10,
   "id": "36e2208f",
   "metadata": {},
   "outputs": [
    {
     "name": "stdout",
     "output_type": "stream",
     "text": [
      "10\n"
     ]
    }
   ],
   "source": [
    "#ANS.7\n",
    "# Lambda function to find the maximum value in a list of integers\n",
    "find_max = lambda lst: max(lst)\n",
    "\n",
    "# Example usage\n",
    "numbers = [3, 1, 4, 1, 5, 9, 10, 6, 5, 3, 5]\n",
    "result = find_max(numbers)\n",
    "print(result)"
   ]
  },
  {
   "cell_type": "markdown",
   "id": "bf92df20",
   "metadata": {},
   "source": [
    "8. Implement a lambda function to filter out all the even numbers from a list of integers"
   ]
  },
  {
   "cell_type": "code",
   "execution_count": 13,
   "id": "83cde112",
   "metadata": {},
   "outputs": [
    {
     "name": "stdout",
     "output_type": "stream",
     "text": [
      "[1, 3, 5, 7, 9]\n"
     ]
    }
   ],
   "source": [
    "filter_even = lambda lst: list(filter(lambda x: x % 2 != 0, lst))\n",
    "# Example usage\n",
    "numbers = [1, 2, 3, 4, 5, 6, 7, 8, 9, 10]\n",
    "result = filter_even(numbers)\n",
    "print(result)"
   ]
  },
  {
   "cell_type": "markdown",
   "id": "e1e81ff9",
   "metadata": {},
   "source": [
    "9. Write a lambda function to sort a list of strings in ascending order based on the length of each string."
   ]
  },
  {
   "cell_type": "code",
   "execution_count": 14,
   "id": "d8d57c57",
   "metadata": {},
   "outputs": [
    {
     "name": "stdout",
     "output_type": "stream",
     "text": [
      "['date', 'apple', 'banana', 'cherry']\n"
     ]
    }
   ],
   "source": [
    "# Lambda function to sort a list of strings by length\n",
    "sort_by_length = lambda lst: sorted(lst, key=lambda x: len(x))\n",
    "\n",
    "# Example usage\n",
    "strings = [\"apple\", \"banana\", \"cherry\", \"date\"]\n",
    "sorted_strings = sort_by_length(strings)\n",
    "print(sorted_strings)"
   ]
  },
  {
   "cell_type": "markdown",
   "id": "b779be53",
   "metadata": {},
   "source": [
    "10. Create a lambda function that takes two lists as input and returns a new list containing the common elements between the two lists"
   ]
  },
  {
   "cell_type": "code",
   "execution_count": 15,
   "id": "df28562f",
   "metadata": {},
   "outputs": [
    {
     "name": "stdout",
     "output_type": "stream",
     "text": [
      "[4, 5]\n"
     ]
    }
   ],
   "source": [
    "# Lambda function to find common elements between two lists\n",
    "common_elements = lambda lst1, lst2: list(filter(lambda x: x in lst2, lst1))\n",
    "\n",
    "# Example usage\n",
    "list1 = [1, 2, 3, 4, 5]\n",
    "list2 = [4, 5, 6, 7, 8]\n",
    "result = common_elements(list1, list2)\n",
    "print(result)\n"
   ]
  },
  {
   "cell_type": "markdown",
   "id": "2abc5f60",
   "metadata": {},
   "source": [
    "11. Write a recursive function to calculate the factorial of a given positive integer."
   ]
  },
  {
   "cell_type": "code",
   "execution_count": 16,
   "id": "084dae44",
   "metadata": {},
   "outputs": [
    {
     "name": "stdout",
     "output_type": "stream",
     "text": [
      "The factorial of 5 is 120\n"
     ]
    }
   ],
   "source": [
    "#defined the function\n",
    "def factorial(n):\n",
    "    # Base case: if n is 0 or 1, the factorial is 1\n",
    "    if n == 0 or n == 1:\n",
    "        return 1\n",
    "    # Recursive case: n * factorial of (n-1)\n",
    "    else:\n",
    "        return n * factorial(n - 1)\n",
    "\n",
    "# Example usage\n",
    "number = 5\n",
    "result = factorial(number)\n",
    "print(f\"The factorial of {number} is {result}\")\n"
   ]
  },
  {
   "cell_type": "markdown",
   "id": "bec77b0c",
   "metadata": {},
   "source": [
    "12. Implement a recursive function to compute the nth Fibonacci number."
   ]
  },
  {
   "cell_type": "code",
   "execution_count": 17,
   "id": "e7eeb6a1",
   "metadata": {},
   "outputs": [
    {
     "name": "stdout",
     "output_type": "stream",
     "text": [
      "The 10th Fibonacci number is 55\n"
     ]
    }
   ],
   "source": [
    "#defined the function\n",
    "def fibonacci(n):\n",
    "    # Base case: if n is 0 or 1, return n\n",
    "    if n <= 1:\n",
    "        return n\n",
    "    # Recursive case: fibonacci(n) = fibonacci(n-1) + fibonacci(n-2)\n",
    "    else:\n",
    "        return fibonacci(n - 1) + fibonacci(n - 2)\n",
    "\n",
    "# Example usage\n",
    "n = 10\n",
    "result = fibonacci(n)\n",
    "print(f\"The {n}th Fibonacci number is {result}\")\n"
   ]
  },
  {
   "cell_type": "markdown",
   "id": "df23dfc8",
   "metadata": {},
   "source": [
    "13. Create a recursive function to find the sum of all the elements in a given list."
   ]
  },
  {
   "cell_type": "code",
   "execution_count": 18,
   "id": "9dfa253b",
   "metadata": {},
   "outputs": [
    {
     "name": "stdout",
     "output_type": "stream",
     "text": [
      "The sum of all elements in the list is 15\n"
     ]
    }
   ],
   "source": [
    "def list_sum(lst):\n",
    "    # Base case: if the list is empty, the sum is 0\n",
    "    if not lst:\n",
    "        return 0\n",
    "    # Recursive case: sum of first element + sum of rest of the elements\n",
    "    else:\n",
    "        return lst[0] + list_sum(lst[1:])\n",
    "\n",
    "# Example usage\n",
    "my_list = [1, 2, 3, 4, 5]\n",
    "result = list_sum(my_list)\n",
    "print(f\"The sum of all elements in the list is {result}\")"
   ]
  },
  {
   "cell_type": "markdown",
   "id": "a1f375ee",
   "metadata": {},
   "source": [
    "14. Write a recursive function to determine whether a given string is a palindrome."
   ]
  },
  {
   "cell_type": "code",
   "execution_count": 20,
   "id": "6a5c22a0",
   "metadata": {},
   "outputs": [
    {
     "name": "stdout",
     "output_type": "stream",
     "text": [
      "'radar' is a palindrome: True\n",
      "'ASAP' is a palindrome: False\n"
     ]
    }
   ],
   "source": [
    "def is_palindrome(s):\n",
    "    # Base case: if the string has 0 or 1 characters, it's a palindrome\n",
    "    if len(s) <= 1:\n",
    "        return True\n",
    "    # Recursive case: check if the first and last characters are equal,\n",
    "    # then check if the substring without the first and last characters is a palindrome\n",
    "    else:\n",
    "        return s[0] == s[-1] and is_palindrome(s[1:-1])\n",
    "\n",
    "# Example usage\n",
    "string1 = \"radar\"\n",
    "string2 = \"ASAP\"\n",
    "\n",
    "print(f\"'{string1}' is a palindrome: {is_palindrome(string1)}\")\n",
    "print(f\"'{string2}' is a palindrome: {is_palindrome(string2)}\")\n"
   ]
  },
  {
   "cell_type": "markdown",
   "id": "1c3a6ecd",
   "metadata": {},
   "source": [
    "15. Implement a recursive function to find the greatest common divisor (GCD) of two positive integers."
   ]
  },
  {
   "cell_type": "code",
   "execution_count": 21,
   "id": "50e284c4",
   "metadata": {},
   "outputs": [
    {
     "name": "stdout",
     "output_type": "stream",
     "text": [
      "The GCD of 48 and 18 is 6\n"
     ]
    }
   ],
   "source": [
    "def gcd(a, b):\n",
    "    # Base case: if b is 0, the GCD is a\n",
    "    if b == 0:\n",
    "        return a\n",
    "    # Recursive case: recursively call gcd with b and the remainder of a divided by b\n",
    "    else:\n",
    "        return gcd(b, a % b)\n",
    "\n",
    "# Example usage\n",
    "num1 = 48\n",
    "num2 = 18\n",
    "result = gcd(num1, num2)\n",
    "print(f\"The GCD of {num1} and {num2} is {result}\")\n"
   ]
  },
  {
   "cell_type": "code",
   "execution_count": null,
   "id": "5f1cd806",
   "metadata": {},
   "outputs": [],
   "source": []
  }
 ],
 "metadata": {
  "kernelspec": {
   "display_name": "Python 3 (ipykernel)",
   "language": "python",
   "name": "python3"
  },
  "language_info": {
   "codemirror_mode": {
    "name": "ipython",
    "version": 3
   },
   "file_extension": ".py",
   "mimetype": "text/x-python",
   "name": "python",
   "nbconvert_exporter": "python",
   "pygments_lexer": "ipython3",
   "version": "3.11.5"
  }
 },
 "nbformat": 4,
 "nbformat_minor": 5
}
